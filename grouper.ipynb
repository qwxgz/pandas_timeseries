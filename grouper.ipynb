{
 "cells": [
  {
   "cell_type": "markdown",
   "id": "76e2decd-4f24-4f33-baaf-3fc8f9286af2",
   "metadata": {},
   "source": [
    "## 在Pandas中通过时间频率来汇总数据的三种常用方法\n",
    "当我们的数据涉及日期和时间时，分析随时间变化变得非常重要。Pandas提供了一种方便的方法，可以按不同的基于时间的间隔(如分钟、小时、天、周、月、季度或年)对时间序列数据进行分组。"
   ]
  },
  {
   "cell_type": "code",
   "execution_count": null,
   "id": "9d42eff9-72e0-47ff-a861-e54376f59833",
   "metadata": {
    "tags": []
   },
   "outputs": [],
   "source": [
    "!pip install seaborn"
   ]
  },
  {
   "cell_type": "code",
   "execution_count": 6,
   "id": "d06cd9ad-95e9-40dd-98ac-b73000182e1e",
   "metadata": {
    "tags": []
   },
   "outputs": [
    {
     "data": {
      "text/html": [
       "<div>\n",
       "<style scoped>\n",
       "    .dataframe tbody tr th:only-of-type {\n",
       "        vertical-align: middle;\n",
       "    }\n",
       "\n",
       "    .dataframe tbody tr th {\n",
       "        vertical-align: top;\n",
       "    }\n",
       "\n",
       "    .dataframe thead th {\n",
       "        text-align: right;\n",
       "    }\n",
       "</style>\n",
       "<table border=\"1\" class=\"dataframe\">\n",
       "  <thead>\n",
       "    <tr style=\"text-align: right;\">\n",
       "      <th></th>\n",
       "      <th>date</th>\n",
       "      <th>sales</th>\n",
       "    </tr>\n",
       "  </thead>\n",
       "  <tbody>\n",
       "    <tr>\n",
       "      <th>54</th>\n",
       "      <td>2023-01-15</td>\n",
       "      <td>3805.194805</td>\n",
       "    </tr>\n",
       "    <tr>\n",
       "      <th>22</th>\n",
       "      <td>2022-06-05</td>\n",
       "      <td>2142.857143</td>\n",
       "    </tr>\n",
       "    <tr>\n",
       "      <th>56</th>\n",
       "      <td>2023-01-29</td>\n",
       "      <td>3909.090909</td>\n",
       "    </tr>\n",
       "    <tr>\n",
       "      <th>1</th>\n",
       "      <td>2022-01-09</td>\n",
       "      <td>1051.948052</td>\n",
       "    </tr>\n",
       "    <tr>\n",
       "      <th>8</th>\n",
       "      <td>2022-02-27</td>\n",
       "      <td>1415.584416</td>\n",
       "    </tr>\n",
       "  </tbody>\n",
       "</table>\n",
       "</div>"
      ],
      "text/plain": [
       "         date        sales\n",
       "54 2023-01-15  3805.194805\n",
       "22 2022-06-05  2142.857143\n",
       "56 2023-01-29  3909.090909\n",
       "1  2022-01-09  1051.948052\n",
       "8  2022-02-27  1415.584416"
      ]
     },
     "execution_count": 6,
     "metadata": {},
     "output_type": "execute_result"
    }
   ],
   "source": [
    "import pandas as pd  \n",
    "import numpy as np \n",
    "# generating data consisting of weekly sales for the timeperiod Jan,2022 to Jan,2023 \n",
    "dates =  pd.date_range('2022-01-01', '2023-06-30', freq = '1 W') \n",
    "sales_val = np.linspace(1000, 5000,len(dates) ) \n",
    "data = {'date':dates, \n",
    "        'sales': sales_val}  \n",
    "# Load the data  \n",
    "df = pd.DataFrame(data)  \n",
    "# Convert the 'date' column to a datetime type  \n",
    "df['date'] = pd.to_datetime(df['date'])  \n",
    "df.sample(5)"
   ]
  },
  {
   "cell_type": "code",
   "execution_count": 7,
   "id": "c7b3502f-dab8-49b9-8120-17e04b2a033b",
   "metadata": {
    "tags": []
   },
   "outputs": [
    {
     "data": {
      "text/plain": [
       "date     datetime64[ns]\n",
       "sales           float64\n",
       "dtype: object"
      ]
     },
     "execution_count": 7,
     "metadata": {},
     "output_type": "execute_result"
    }
   ],
   "source": [
    "df.dtypes"
   ]
  },
  {
   "cell_type": "code",
   "execution_count": 14,
   "id": "e1d1dc91-459a-47ec-8ca3-242175718b0c",
   "metadata": {},
   "outputs": [
    {
     "data": {
      "text/html": [
       "<div>\n",
       "<style scoped>\n",
       "    .dataframe tbody tr th:only-of-type {\n",
       "        vertical-align: middle;\n",
       "    }\n",
       "\n",
       "    .dataframe tbody tr th {\n",
       "        vertical-align: top;\n",
       "    }\n",
       "\n",
       "    .dataframe thead th {\n",
       "        text-align: right;\n",
       "    }\n",
       "</style>\n",
       "<table border=\"1\" class=\"dataframe\">\n",
       "  <thead>\n",
       "    <tr style=\"text-align: right;\">\n",
       "      <th></th>\n",
       "      <th>date</th>\n",
       "      <th>sales</th>\n",
       "    </tr>\n",
       "  </thead>\n",
       "  <tbody>\n",
       "    <tr>\n",
       "      <th>0</th>\n",
       "      <td>2022-01-02</td>\n",
       "      <td>1000.000000</td>\n",
       "    </tr>\n",
       "    <tr>\n",
       "      <th>1</th>\n",
       "      <td>2022-01-09</td>\n",
       "      <td>1051.948052</td>\n",
       "    </tr>\n",
       "    <tr>\n",
       "      <th>2</th>\n",
       "      <td>2022-01-16</td>\n",
       "      <td>1103.896104</td>\n",
       "    </tr>\n",
       "    <tr>\n",
       "      <th>3</th>\n",
       "      <td>2022-01-23</td>\n",
       "      <td>1155.844156</td>\n",
       "    </tr>\n",
       "    <tr>\n",
       "      <th>4</th>\n",
       "      <td>2022-01-30</td>\n",
       "      <td>1207.792208</td>\n",
       "    </tr>\n",
       "    <tr>\n",
       "      <th>...</th>\n",
       "      <td>...</td>\n",
       "      <td>...</td>\n",
       "    </tr>\n",
       "    <tr>\n",
       "      <th>73</th>\n",
       "      <td>2023-05-28</td>\n",
       "      <td>4792.207792</td>\n",
       "    </tr>\n",
       "    <tr>\n",
       "      <th>74</th>\n",
       "      <td>2023-06-04</td>\n",
       "      <td>4844.155844</td>\n",
       "    </tr>\n",
       "    <tr>\n",
       "      <th>75</th>\n",
       "      <td>2023-06-11</td>\n",
       "      <td>4896.103896</td>\n",
       "    </tr>\n",
       "    <tr>\n",
       "      <th>76</th>\n",
       "      <td>2023-06-18</td>\n",
       "      <td>4948.051948</td>\n",
       "    </tr>\n",
       "    <tr>\n",
       "      <th>77</th>\n",
       "      <td>2023-06-25</td>\n",
       "      <td>5000.000000</td>\n",
       "    </tr>\n",
       "  </tbody>\n",
       "</table>\n",
       "<p>78 rows × 2 columns</p>\n",
       "</div>"
      ],
      "text/plain": [
       "         date        sales\n",
       "0  2022-01-02  1000.000000\n",
       "1  2022-01-09  1051.948052\n",
       "2  2022-01-16  1103.896104\n",
       "3  2022-01-23  1155.844156\n",
       "4  2022-01-30  1207.792208\n",
       "..        ...          ...\n",
       "73 2023-05-28  4792.207792\n",
       "74 2023-06-04  4844.155844\n",
       "75 2023-06-11  4896.103896\n",
       "76 2023-06-18  4948.051948\n",
       "77 2023-06-25  5000.000000\n",
       "\n",
       "[78 rows x 2 columns]"
      ]
     },
     "execution_count": 14,
     "metadata": {},
     "output_type": "execute_result"
    }
   ],
   "source": [
    "df"
   ]
  },
  {
   "cell_type": "markdown",
   "id": "2714d4f4-781d-476a-885c-b2b7ea731632",
   "metadata": {},
   "source": [
    "## 1. pandas中的resample 方法\n",
    "用于对时间序列数据进行重采样，可以将数据的频率更改为不同的间隔。例如将每日数据重新采样为每月数据。Pandas中的resample方法可用于基于时间间隔对数据进行分组。它接收frequency参数并返回一个Resampler对象，该对象可用于应用各种聚合函数，如mean、sum或count。resample()只在DataFrame的索引为日期或时间类型时才对数据进行重新采样。\n",
    "\n"
   ]
  },
  {
   "cell_type": "code",
   "execution_count": 8,
   "id": "04d6eba3-d1d5-43b0-9b4b-45ffa0d2d699",
   "metadata": {
    "tags": []
   },
   "outputs": [
    {
     "name": "stdout",
     "output_type": "stream",
     "text": [
      "Grouping is done on monthly basis using resample method:\n",
      "                    sales\n",
      "date                    \n",
      "2022-01-31   5519.480519\n",
      "2022-04-30  18545.454545\n",
      "2022-07-31  31090.909091\n",
      "2022-10-31  37987.012987\n",
      "2023-01-31  46766.233766\n",
      "2023-04-30  55545.454545\n",
      "2023-07-31  38545.454545\n"
     ]
    },
    {
     "data": {
      "text/plain": [
       "Text(0.5, 1.0, 'Average Monthly sales with respect to  month')"
      ]
     },
     "execution_count": 8,
     "metadata": {},
     "output_type": "execute_result"
    },
    {
     "data": {
      "image/png": "[encoded data removed]",
      "text/plain": [
       "<Figure size 640x480 with 1 Axes>"
      ]
     },
     "metadata": {},
     "output_type": "display_data"
    }
   ],
   "source": [
    "# resample\n",
    "import matplotlib.pyplot as plt \n",
    "import seaborn as sns \n",
    "# Set the 'date' column as the index, \n",
    "# and Group the data by month using resample  \n",
    "# grouped = df.set_index('date').resample('M').mean()  \n",
    "grouped = df.set_index('date').resample('3M').sum()  \n",
    "print(\"Grouping is done on monthly basis using resample method:\\n\", grouped) \n",
    "# plot the average of monthly sales \n",
    "sns.lineplot(grouped['sales']) \n",
    "plt.xlabel(\"Date\") \n",
    "plt.ylabel(\"Average Monthly Sales\") \n",
    "plt.grid(True) \n",
    "plt.title(\"Average Monthly sales with respect to  month\")"
   ]
  },
  {
   "cell_type": "code",
   "execution_count": 9,
   "id": "21a20cc6-f512-4fc3-88f6-15f7a4a559bf",
   "metadata": {
    "tags": []
   },
   "outputs": [
    {
     "data": {
      "text/plain": [
       "sales    float64\n",
       "dtype: object"
      ]
     },
     "execution_count": 9,
     "metadata": {},
     "output_type": "execute_result"
    }
   ],
   "source": [
    "grouped.dtypes"
   ]
  },
  {
   "cell_type": "markdown",
   "id": "df23188a-7392-41c4-aea4-e1b31d22958f",
   "metadata": {},
   "source": [
    "在本例中，我们首先将' date '列转换为日期类型，然后将其设置为DataFrame的索引。\n",
    "然后使用重采样方法按月分组数据，并计算每个月的“sales”列的平均值。结果是一个新的DF，每个月有一行，还包含该月“sales”列的平均值。\n",
    "\n"
   ]
  },
  {
   "cell_type": "markdown",
   "id": "a6cffa1d-b35f-4efa-9635-e29f8777b686",
   "metadata": {},
   "source": [
    "## 2. pandas的Grouper 函数\n",
    "可以与 groupby 方法一起使用，以根据不同的时间间隔（例如分钟、小时、天、周、月、季度或年）对数据进行分组。 Grouper 包含了key （包含日期的列）、frequency （分组依据的间隔）、closed （关闭间隔的一侧）和label （标记间隔）等参数。Pandas 中的 Grouper 函数提供了一种按不同时间间隔（例如分钟、小时、天、周、月、季度或年）对时间序列数据进行分组的便捷方法。 通过与Pandas 中的 groupby 方法 一起使用，可以根据不同的时间间隔对时间序列数据进行分组和汇总。"
   ]
  },
  {
   "cell_type": "markdown",
   "id": "2744687b-3db0-43e3-987d-a95938f597ca",
   "metadata": {
    "tags": []
   },
   "source": [
    "Grouper函数接受以下参数:\n",
    "\n",
    "key:时间序列数据的列名。\n",
    "\n",
    "freq:时间间隔的频率，如“D”表示日，“W”表示周，“M”表示月，等等。\n",
    "\n",
    "closed:间隔是否应该在右侧(右)、左侧(左)或两侧(两个)闭合。\n",
    "\n",
    "label :用它的结束(右)或开始(左)日期标记间隔。\n",
    "\n",
    "Grouper函数和groupby一起按月间隔对数据进行分组:"
   ]
  },
  {
   "cell_type": "code",
   "execution_count": 10,
   "id": "cb2943f4-f513-4f76-ad42-61662b155586",
   "metadata": {
    "tags": []
   },
   "outputs": [
    {
     "data": {
      "text/plain": [
       "date     datetime64[ns]\n",
       "sales           float64\n",
       "dtype: object"
      ]
     },
     "execution_count": 10,
     "metadata": {},
     "output_type": "execute_result"
    }
   ],
   "source": [
    "df.dtypes"
   ]
  },
  {
   "cell_type": "code",
   "execution_count": 11,
   "id": "516c35e9-dc30-4598-b6fc-6377e074cb64",
   "metadata": {
    "tags": []
   },
   "outputs": [
    {
     "data": {
      "text/html": [
       "<div>\n",
       "<style scoped>\n",
       "    .dataframe tbody tr th:only-of-type {\n",
       "        vertical-align: middle;\n",
       "    }\n",
       "\n",
       "    .dataframe tbody tr th {\n",
       "        vertical-align: top;\n",
       "    }\n",
       "\n",
       "    .dataframe thead th {\n",
       "        text-align: right;\n",
       "    }\n",
       "</style>\n",
       "<table border=\"1\" class=\"dataframe\">\n",
       "  <thead>\n",
       "    <tr style=\"text-align: right;\">\n",
       "      <th></th>\n",
       "      <th>date</th>\n",
       "      <th>sales</th>\n",
       "    </tr>\n",
       "  </thead>\n",
       "  <tbody>\n",
       "    <tr>\n",
       "      <th>0</th>\n",
       "      <td>2022-01-02</td>\n",
       "      <td>1000.000000</td>\n",
       "    </tr>\n",
       "    <tr>\n",
       "      <th>1</th>\n",
       "      <td>2022-01-09</td>\n",
       "      <td>1051.948052</td>\n",
       "    </tr>\n",
       "    <tr>\n",
       "      <th>2</th>\n",
       "      <td>2022-01-16</td>\n",
       "      <td>1103.896104</td>\n",
       "    </tr>\n",
       "    <tr>\n",
       "      <th>3</th>\n",
       "      <td>2022-01-23</td>\n",
       "      <td>1155.844156</td>\n",
       "    </tr>\n",
       "    <tr>\n",
       "      <th>4</th>\n",
       "      <td>2022-01-30</td>\n",
       "      <td>1207.792208</td>\n",
       "    </tr>\n",
       "  </tbody>\n",
       "</table>\n",
       "</div>"
      ],
      "text/plain": [
       "        date        sales\n",
       "0 2022-01-02  1000.000000\n",
       "1 2022-01-09  1051.948052\n",
       "2 2022-01-16  1103.896104\n",
       "3 2022-01-23  1155.844156\n",
       "4 2022-01-30  1207.792208"
      ]
     },
     "execution_count": 11,
     "metadata": {},
     "output_type": "execute_result"
    }
   ],
   "source": [
    "df.head()"
   ]
  },
  {
   "cell_type": "code",
   "execution_count": 12,
   "id": "910cfa27-226c-4d3a-a52f-5ee29778b85e",
   "metadata": {
    "tags": []
   },
   "outputs": [
    {
     "name": "stdout",
     "output_type": "stream",
     "text": [
      "Grouping is done on monthly basis using pandas.Grouper and groupby method:\n",
      "                    sales\n",
      "date                    \n",
      "2022-01-31   5519.480519\n",
      "2022-03-31  11532.467532\n",
      "2022-05-31  16948.051948\n",
      "2022-07-31  21155.844156\n",
      "2022-09-30  22337.662338\n",
      "2022-11-30  29103.896104\n",
      "2023-01-31  33311.688312\n",
      "2023-03-31  33142.857143\n",
      "2023-05-31  41259.740260\n",
      "2023-07-31  19688.311688\n"
     ]
    },
    {
     "data": {
      "text/plain": [
       "Text(0.5, 1.0, 'Average Monthly sales with respect to month using pd.Grouper and groupby ')"
      ]
     },
     "execution_count": 12,
     "metadata": {},
     "output_type": "execute_result"
    },
    {
     "data": {
      "image/png": "[encoded data removed]",
      "text/plain": [
       "<Figure size 640x480 with 1 Axes>"
      ]
     },
     "metadata": {},
     "output_type": "display_data"
    }
   ],
   "source": [
    "import matplotlib.pyplot as plt \n",
    "import seaborn as sns \n",
    "# Group the data by month using pd.Grouper and calculate monthly average \n",
    "# grouped = df.groupby(pd.Grouper(key='date', freq='M')).mean() \n",
    "# grouped = df.groupby(pd.Grouper(key='date', freq='M')).sum() \n",
    "grouped = df.groupby(pd.Grouper(key='date', freq='2M')).sum() \n",
    "print(\"Grouping is done on monthly basis using pandas.Grouper and groupby method:\\n\", grouped) \n",
    "# plot the average of monthly sales \n",
    "sns.lineplot(grouped['sales']) \n",
    "plt.xlabel(\"Date\") \n",
    "plt.ylabel(\"Average Monthly Sales\") \n",
    "plt.grid(True) \n",
    "plt.title(\"Average Monthly sales with respect to month using pd.Grouper and groupby \")\n"
   ]
  },
  {
   "cell_type": "markdown",
   "id": "79ac6ecb-b47d-4c7a-855a-54cea1ff9189",
   "metadata": {},
   "source": [
    "## 3、dt 访问器和 groupby\n",
    "Pandas中的dt访问器可以从日期和时间类列中提取各种属性，例如年、月、日等。所以我们可以使用提取的属性根据与日期相关的信息对数据进行分组。\n",
    "\n",
    "在Pandas中，使用dt访问器从DataFrame中的date和time对象中提取属性，然后使用groupby方法将数据分组为间隔。\n",
    "\n"
   ]
  },
  {
   "cell_type": "code",
   "execution_count": 13,
   "id": "47b6f65e-bb74-42b8-a027-ef543d9f4f2f",
   "metadata": {
    "tags": []
   },
   "outputs": [
    {
     "name": "stdout",
     "output_type": "stream",
     "text": [
      "Grouping is done on monthly basis using dt and groupby method:\n",
      "                        date        sales\n",
      "date                                    \n",
      "2022-01 2022-01-16 00:00:00  1103.896104\n",
      "2022-02 2022-02-16 12:00:00  1337.662338\n",
      "2022-03 2022-03-16 12:00:00  1545.454545\n",
      "2022-04 2022-04-13 12:00:00  1753.246753\n",
      "2022-05 2022-05-15 00:00:00  1987.012987\n",
      "2022-06 2022-06-15 12:00:00  2220.779221\n",
      "2022-07 2022-07-17 00:00:00  2454.545455\n",
      "2022-08 2022-08-17 12:00:00  2688.311688\n",
      "2022-09 2022-09-14 12:00:00  2896.103896\n",
      "2022-10 2022-10-16 00:00:00  3129.870130\n",
      "2022-11 2022-11-16 12:00:00  3363.636364\n",
      "2022-12 2022-12-14 12:00:00  3571.428571\n",
      "2023-01 2023-01-15 00:00:00  3805.194805\n",
      "2023-02 2023-02-15 12:00:00  4038.961039\n",
      "2023-03 2023-03-15 12:00:00  4246.753247\n",
      "2023-04 2023-04-16 00:00:00  4480.519481\n",
      "2023-05 2023-05-17 12:00:00  4714.285714\n",
      "2023-06 2023-06-14 12:00:00  4922.077922\n"
     ]
    }
   ],
   "source": [
    "import matplotlib.pyplot as plt \n",
    "import seaborn as sns \n",
    "# Group the data by month using dt and calculate monthly average \n",
    "grouped = df.groupby(df['date'].dt.to_period(\"M\")).mean() \n",
    "print(\"Grouping is done on monthly basis using dt and groupby method:\\n\", grouped)"
   ]
  },
  {
   "cell_type": "markdown",
   "id": "0d74ab5b-5636-41c6-8a57-0c4e211bdc0c",
   "metadata": {},
   "source": [
    "## 总结\n",
    "这三种常用的方法可以汇总时间序列数据，所有方法都相对容易使用。在时间复杂度方面，所有方法对于中小型数据集都是有效的。\n",
    "\n",
    "对于较大的数据集，resample的性能更好，因为它针对时间索引进行了优化。\n",
    "\n",
    "而Grouper和dt提供了更大的灵活性，可以进行更复杂的分组操作。可以根据自己喜欢的语法或者特定的需求选择一种方法使用。"
   ]
  },
  {
   "cell_type": "code",
   "execution_count": null,
   "id": "c3fde430-5079-48b4-9d98-2bd5268e251e",
   "metadata": {},
   "outputs": [],
   "source": []
  },
  {
   "cell_type": "code",
   "execution_count": null,
   "id": "ea7a559a-b4ee-4183-b4d8-d751bcc933a7",
   "metadata": {},
   "outputs": [],
   "source": []
  }
 ],
 "metadata": {
  "kernelspec": {
   "display_name": "Python 3 (ipykernel)",
   "language": "python",
   "name": "python3"
  },
  "language_info": {
   "codemirror_mode": {
    "name": "ipython",
    "version": 3
   },
   "file_extension": ".py",
   "mimetype": "text/x-python",
   "name": "python",
   "nbconvert_exporter": "python",
   "pygments_lexer": "ipython3",
   "version": "3.8.17"
  }
 },
 "nbformat": 4,
 "nbformat_minor": 5
}
