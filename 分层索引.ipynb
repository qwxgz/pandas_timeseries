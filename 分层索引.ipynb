{
 "cells": [
  {
   "cell_type": "code",
   "execution_count": 29,
   "id": "409b7457-5fcc-418e-b787-fcec2d762631",
   "metadata": {
    "tags": []
   },
   "outputs": [],
   "source": [
    "import pandas as pd\n",
    "import numpy as np\n",
    "\n",
    "dt = ['2020-03-11', '2020-03-12','2020-03-13']\n",
    "sc = ['000625.SZ','000762.SZ','600132.SH','600009.SH','600126.SH']\n",
    "cn = ['sales', 'qty']\n",
    "idx = pd.MultiIndex.from_product([dt, sc], names=['date', 'code'])\n",
    "data = np.array([\n",
    "\t[422.08, 37091400],\n",
    "\t[73.65, 9315300],\n",
    "\t[207.04, 4127800],\n",
    "\t[510.59, 7233100],\n",
    "\t[63.28, 28911100],\n",
    "\t[471.78, 42471700],\n",
    "\t[59.2, 7724200],\n",
    "\t[156.82, 3143100],\n",
    "\t[853.83, 12350400],\n",
    "\t[52.84, 24828900],\n",
    "\t[789.1, 68771048],\n",
    "\t[57.01, 7741802],\n",
    "\t[223.06, 4496598],\n",
    "\t[1196.14, 17662768],\n",
    "\t[56.32, 27484360]\n",
    "])"
   ]
  },
  {
   "cell_type": "code",
   "execution_count": 30,
   "id": "d6d059aa-c54e-4f95-a6f5-d098381647e1",
   "metadata": {
    "tags": []
   },
   "outputs": [
    {
     "data": {
      "text/plain": [
       "array([[4.2208000e+02, 3.7091400e+07],\n",
       "       [7.3650000e+01, 9.3153000e+06],\n",
       "       [2.0704000e+02, 4.1278000e+06],\n",
       "       [5.1059000e+02, 7.2331000e+06],\n",
       "       [6.3280000e+01, 2.8911100e+07],\n",
       "       [4.7178000e+02, 4.2471700e+07],\n",
       "       [5.9200000e+01, 7.7242000e+06],\n",
       "       [1.5682000e+02, 3.1431000e+06],\n",
       "       [8.5383000e+02, 1.2350400e+07],\n",
       "       [5.2840000e+01, 2.4828900e+07],\n",
       "       [7.8910000e+02, 6.8771048e+07],\n",
       "       [5.7010000e+01, 7.7418020e+06],\n",
       "       [2.2306000e+02, 4.4965980e+06],\n",
       "       [1.1961400e+03, 1.7662768e+07],\n",
       "       [5.6320000e+01, 2.7484360e+07]])"
      ]
     },
     "execution_count": 30,
     "metadata": {},
     "output_type": "execute_result"
    }
   ],
   "source": [
    "data"
   ]
  },
  {
   "cell_type": "code",
   "execution_count": 55,
   "id": "edce0fdb-a69c-4af6-ad9d-23b2465f6601",
   "metadata": {
    "tags": []
   },
   "outputs": [
    {
     "name": "stdout",
     "output_type": "stream",
     "text": [
      "                        sales         qty\n",
      "date       code                          \n",
      "2020-03-11 000625.SZ   422.08  37091400.0\n",
      "           000762.SZ    73.65   9315300.0\n",
      "           600132.SH   207.04   4127800.0\n",
      "           600009.SH   510.59   7233100.0\n",
      "           600126.SH    63.28  28911100.0\n",
      "2020-03-12 000625.SZ   471.78  42471700.0\n",
      "           000762.SZ    59.20   7724200.0\n",
      "           600132.SH   156.82   3143100.0\n",
      "           600009.SH   853.83  12350400.0\n",
      "           600126.SH    52.84  24828900.0\n",
      "2020-03-13 000625.SZ   789.10  68771048.0\n",
      "           000762.SZ    57.01   7741802.0\n",
      "           600132.SH   223.06   4496598.0\n",
      "           600009.SH  1196.14  17662768.0\n",
      "           600126.SH    56.32  27484360.0\n"
     ]
    }
   ],
   "source": [
    "df = pd.DataFrame(data, index=idx, columns=cn)\n",
    "print(df)"
   ]
  },
  {
   "cell_type": "code",
   "execution_count": 57,
   "id": "5ad14902-8cb3-4821-8b89-285daa59d0d3",
   "metadata": {
    "tags": []
   },
   "outputs": [
    {
     "data": {
      "text/html": [
       "<div>\n",
       "<style scoped>\n",
       "    .dataframe tbody tr th:only-of-type {\n",
       "        vertical-align: middle;\n",
       "    }\n",
       "\n",
       "    .dataframe tbody tr th {\n",
       "        vertical-align: top;\n",
       "    }\n",
       "\n",
       "    .dataframe thead th {\n",
       "        text-align: right;\n",
       "    }\n",
       "</style>\n",
       "<table border=\"1\" class=\"dataframe\">\n",
       "  <thead>\n",
       "    <tr style=\"text-align: right;\">\n",
       "      <th></th>\n",
       "      <th></th>\n",
       "      <th>sales</th>\n",
       "      <th>qty</th>\n",
       "    </tr>\n",
       "    <tr>\n",
       "      <th>dt</th>\n",
       "      <th>cd</th>\n",
       "      <th></th>\n",
       "      <th></th>\n",
       "    </tr>\n",
       "  </thead>\n",
       "  <tbody>\n",
       "    <tr>\n",
       "      <th rowspan=\"5\" valign=\"top\">2020-03-11</th>\n",
       "      <th>000625.SZ</th>\n",
       "      <td>422.08</td>\n",
       "      <td>37091400.0</td>\n",
       "    </tr>\n",
       "    <tr>\n",
       "      <th>000762.SZ</th>\n",
       "      <td>73.65</td>\n",
       "      <td>9315300.0</td>\n",
       "    </tr>\n",
       "    <tr>\n",
       "      <th>600132.SH</th>\n",
       "      <td>207.04</td>\n",
       "      <td>4127800.0</td>\n",
       "    </tr>\n",
       "    <tr>\n",
       "      <th>600009.SH</th>\n",
       "      <td>510.59</td>\n",
       "      <td>7233100.0</td>\n",
       "    </tr>\n",
       "    <tr>\n",
       "      <th>600126.SH</th>\n",
       "      <td>63.28</td>\n",
       "      <td>28911100.0</td>\n",
       "    </tr>\n",
       "    <tr>\n",
       "      <th rowspan=\"5\" valign=\"top\">2020-03-12</th>\n",
       "      <th>000625.SZ</th>\n",
       "      <td>471.78</td>\n",
       "      <td>42471700.0</td>\n",
       "    </tr>\n",
       "    <tr>\n",
       "      <th>000762.SZ</th>\n",
       "      <td>59.20</td>\n",
       "      <td>7724200.0</td>\n",
       "    </tr>\n",
       "    <tr>\n",
       "      <th>600132.SH</th>\n",
       "      <td>156.82</td>\n",
       "      <td>3143100.0</td>\n",
       "    </tr>\n",
       "    <tr>\n",
       "      <th>600009.SH</th>\n",
       "      <td>853.83</td>\n",
       "      <td>12350400.0</td>\n",
       "    </tr>\n",
       "    <tr>\n",
       "      <th>600126.SH</th>\n",
       "      <td>52.84</td>\n",
       "      <td>24828900.0</td>\n",
       "    </tr>\n",
       "    <tr>\n",
       "      <th rowspan=\"5\" valign=\"top\">2020-03-13</th>\n",
       "      <th>000625.SZ</th>\n",
       "      <td>789.10</td>\n",
       "      <td>68771048.0</td>\n",
       "    </tr>\n",
       "    <tr>\n",
       "      <th>000762.SZ</th>\n",
       "      <td>57.01</td>\n",
       "      <td>7741802.0</td>\n",
       "    </tr>\n",
       "    <tr>\n",
       "      <th>600132.SH</th>\n",
       "      <td>223.06</td>\n",
       "      <td>4496598.0</td>\n",
       "    </tr>\n",
       "    <tr>\n",
       "      <th>600009.SH</th>\n",
       "      <td>1196.14</td>\n",
       "      <td>17662768.0</td>\n",
       "    </tr>\n",
       "    <tr>\n",
       "      <th>600126.SH</th>\n",
       "      <td>56.32</td>\n",
       "      <td>27484360.0</td>\n",
       "    </tr>\n",
       "  </tbody>\n",
       "</table>\n",
       "</div>"
      ],
      "text/plain": [
       "                        sales         qty\n",
       "dt         cd                            \n",
       "2020-03-11 000625.SZ   422.08  37091400.0\n",
       "           000762.SZ    73.65   9315300.0\n",
       "           600132.SH   207.04   4127800.0\n",
       "           600009.SH   510.59   7233100.0\n",
       "           600126.SH    63.28  28911100.0\n",
       "2020-03-12 000625.SZ   471.78  42471700.0\n",
       "           000762.SZ    59.20   7724200.0\n",
       "           600132.SH   156.82   3143100.0\n",
       "           600009.SH   853.83  12350400.0\n",
       "           600126.SH    52.84  24828900.0\n",
       "2020-03-13 000625.SZ   789.10  68771048.0\n",
       "           000762.SZ    57.01   7741802.0\n",
       "           600132.SH   223.06   4496598.0\n",
       "           600009.SH  1196.14  17662768.0\n",
       "           600126.SH    56.32  27484360.0"
      ]
     },
     "execution_count": 57,
     "metadata": {},
     "output_type": "execute_result"
    }
   ],
   "source": [
    "df.index.names = ['dt', 'cd']\n",
    "df"
   ]
  },
  {
   "cell_type": "code",
   "execution_count": 60,
   "id": "618e6c63-3356-4d6b-9969-e655b6c726bd",
   "metadata": {
    "tags": []
   },
   "outputs": [
    {
     "data": {
      "text/plain": [
       "dt          cd              \n",
       "2020-03-11  000625.SZ  sales         422.08\n",
       "                       qty      37091400.00\n",
       "            000762.SZ  sales          73.65\n",
       "                       qty       9315300.00\n",
       "            600132.SH  sales         207.04\n",
       "                       qty       4127800.00\n",
       "            600009.SH  sales         510.59\n",
       "                       qty       7233100.00\n",
       "            600126.SH  sales          63.28\n",
       "                       qty      28911100.00\n",
       "2020-03-12  000625.SZ  sales         471.78\n",
       "                       qty      42471700.00\n",
       "            000762.SZ  sales          59.20\n",
       "                       qty       7724200.00\n",
       "            600132.SH  sales         156.82\n",
       "                       qty       3143100.00\n",
       "            600009.SH  sales         853.83\n",
       "                       qty      12350400.00\n",
       "            600126.SH  sales          52.84\n",
       "                       qty      24828900.00\n",
       "2020-03-13  000625.SZ  sales         789.10\n",
       "                       qty      68771048.00\n",
       "            000762.SZ  sales          57.01\n",
       "                       qty       7741802.00\n",
       "            600132.SH  sales         223.06\n",
       "                       qty       4496598.00\n",
       "            600009.SH  sales        1196.14\n",
       "                       qty      17662768.00\n",
       "            600126.SH  sales          56.32\n",
       "                       qty      27484360.00\n",
       "dtype: float64"
      ]
     },
     "execution_count": 60,
     "metadata": {},
     "output_type": "execute_result"
    }
   ],
   "source": [
    "dfstack = df.stack()\n",
    "dfstack"
   ]
  },
  {
   "cell_type": "code",
   "execution_count": 61,
   "id": "68944f2d-3139-4bea-9924-94b9ba830172",
   "metadata": {
    "tags": []
   },
   "outputs": [
    {
     "data": {
      "text/html": [
       "<div>\n",
       "<style scoped>\n",
       "    .dataframe tbody tr th:only-of-type {\n",
       "        vertical-align: middle;\n",
       "    }\n",
       "\n",
       "    .dataframe tbody tr th {\n",
       "        vertical-align: top;\n",
       "    }\n",
       "\n",
       "    .dataframe thead th {\n",
       "        text-align: right;\n",
       "    }\n",
       "</style>\n",
       "<table border=\"1\" class=\"dataframe\">\n",
       "  <thead>\n",
       "    <tr style=\"text-align: right;\">\n",
       "      <th></th>\n",
       "      <th></th>\n",
       "      <th>sales</th>\n",
       "      <th>qty</th>\n",
       "    </tr>\n",
       "    <tr>\n",
       "      <th>dt</th>\n",
       "      <th>cd</th>\n",
       "      <th></th>\n",
       "      <th></th>\n",
       "    </tr>\n",
       "  </thead>\n",
       "  <tbody>\n",
       "    <tr>\n",
       "      <th rowspan=\"5\" valign=\"top\">2020-03-11</th>\n",
       "      <th>000625.SZ</th>\n",
       "      <td>422.08</td>\n",
       "      <td>37091400.0</td>\n",
       "    </tr>\n",
       "    <tr>\n",
       "      <th>000762.SZ</th>\n",
       "      <td>73.65</td>\n",
       "      <td>9315300.0</td>\n",
       "    </tr>\n",
       "    <tr>\n",
       "      <th>600009.SH</th>\n",
       "      <td>510.59</td>\n",
       "      <td>7233100.0</td>\n",
       "    </tr>\n",
       "    <tr>\n",
       "      <th>600126.SH</th>\n",
       "      <td>63.28</td>\n",
       "      <td>28911100.0</td>\n",
       "    </tr>\n",
       "    <tr>\n",
       "      <th>600132.SH</th>\n",
       "      <td>207.04</td>\n",
       "      <td>4127800.0</td>\n",
       "    </tr>\n",
       "    <tr>\n",
       "      <th rowspan=\"5\" valign=\"top\">2020-03-12</th>\n",
       "      <th>000625.SZ</th>\n",
       "      <td>471.78</td>\n",
       "      <td>42471700.0</td>\n",
       "    </tr>\n",
       "    <tr>\n",
       "      <th>000762.SZ</th>\n",
       "      <td>59.20</td>\n",
       "      <td>7724200.0</td>\n",
       "    </tr>\n",
       "    <tr>\n",
       "      <th>600009.SH</th>\n",
       "      <td>853.83</td>\n",
       "      <td>12350400.0</td>\n",
       "    </tr>\n",
       "    <tr>\n",
       "      <th>600126.SH</th>\n",
       "      <td>52.84</td>\n",
       "      <td>24828900.0</td>\n",
       "    </tr>\n",
       "    <tr>\n",
       "      <th>600132.SH</th>\n",
       "      <td>156.82</td>\n",
       "      <td>3143100.0</td>\n",
       "    </tr>\n",
       "    <tr>\n",
       "      <th rowspan=\"5\" valign=\"top\">2020-03-13</th>\n",
       "      <th>000625.SZ</th>\n",
       "      <td>789.10</td>\n",
       "      <td>68771048.0</td>\n",
       "    </tr>\n",
       "    <tr>\n",
       "      <th>000762.SZ</th>\n",
       "      <td>57.01</td>\n",
       "      <td>7741802.0</td>\n",
       "    </tr>\n",
       "    <tr>\n",
       "      <th>600009.SH</th>\n",
       "      <td>1196.14</td>\n",
       "      <td>17662768.0</td>\n",
       "    </tr>\n",
       "    <tr>\n",
       "      <th>600126.SH</th>\n",
       "      <td>56.32</td>\n",
       "      <td>27484360.0</td>\n",
       "    </tr>\n",
       "    <tr>\n",
       "      <th>600132.SH</th>\n",
       "      <td>223.06</td>\n",
       "      <td>4496598.0</td>\n",
       "    </tr>\n",
       "  </tbody>\n",
       "</table>\n",
       "</div>"
      ],
      "text/plain": [
       "                        sales         qty\n",
       "dt         cd                            \n",
       "2020-03-11 000625.SZ   422.08  37091400.0\n",
       "           000762.SZ    73.65   9315300.0\n",
       "           600009.SH   510.59   7233100.0\n",
       "           600126.SH    63.28  28911100.0\n",
       "           600132.SH   207.04   4127800.0\n",
       "2020-03-12 000625.SZ   471.78  42471700.0\n",
       "           000762.SZ    59.20   7724200.0\n",
       "           600009.SH   853.83  12350400.0\n",
       "           600126.SH    52.84  24828900.0\n",
       "           600132.SH   156.82   3143100.0\n",
       "2020-03-13 000625.SZ   789.10  68771048.0\n",
       "           000762.SZ    57.01   7741802.0\n",
       "           600009.SH  1196.14  17662768.0\n",
       "           600126.SH    56.32  27484360.0\n",
       "           600132.SH   223.06   4496598.0"
      ]
     },
     "execution_count": 61,
     "metadata": {},
     "output_type": "execute_result"
    }
   ],
   "source": [
    "dfunstack = dfstack.unstack()\n",
    "dfunstack"
   ]
  },
  {
   "cell_type": "code",
   "execution_count": 62,
   "id": "d646722e-6c1d-43e9-8507-f40a6732140f",
   "metadata": {
    "tags": []
   },
   "outputs": [
    {
     "data": {
      "text/html": [
       "<div>\n",
       "<style scoped>\n",
       "    .dataframe tbody tr th:only-of-type {\n",
       "        vertical-align: middle;\n",
       "    }\n",
       "\n",
       "    .dataframe tbody tr th {\n",
       "        vertical-align: top;\n",
       "    }\n",
       "\n",
       "    .dataframe thead th {\n",
       "        text-align: right;\n",
       "    }\n",
       "</style>\n",
       "<table border=\"1\" class=\"dataframe\">\n",
       "  <thead>\n",
       "    <tr style=\"text-align: right;\">\n",
       "      <th></th>\n",
       "      <th>dt</th>\n",
       "      <th>cd</th>\n",
       "      <th>sales</th>\n",
       "      <th>qty</th>\n",
       "    </tr>\n",
       "  </thead>\n",
       "  <tbody>\n",
       "    <tr>\n",
       "      <th>0</th>\n",
       "      <td>2020-03-11</td>\n",
       "      <td>000625.SZ</td>\n",
       "      <td>422.08</td>\n",
       "      <td>37091400.0</td>\n",
       "    </tr>\n",
       "    <tr>\n",
       "      <th>1</th>\n",
       "      <td>2020-03-11</td>\n",
       "      <td>000762.SZ</td>\n",
       "      <td>73.65</td>\n",
       "      <td>9315300.0</td>\n",
       "    </tr>\n",
       "    <tr>\n",
       "      <th>2</th>\n",
       "      <td>2020-03-11</td>\n",
       "      <td>600009.SH</td>\n",
       "      <td>510.59</td>\n",
       "      <td>7233100.0</td>\n",
       "    </tr>\n",
       "    <tr>\n",
       "      <th>3</th>\n",
       "      <td>2020-03-11</td>\n",
       "      <td>600126.SH</td>\n",
       "      <td>63.28</td>\n",
       "      <td>28911100.0</td>\n",
       "    </tr>\n",
       "    <tr>\n",
       "      <th>4</th>\n",
       "      <td>2020-03-11</td>\n",
       "      <td>600132.SH</td>\n",
       "      <td>207.04</td>\n",
       "      <td>4127800.0</td>\n",
       "    </tr>\n",
       "    <tr>\n",
       "      <th>5</th>\n",
       "      <td>2020-03-12</td>\n",
       "      <td>000625.SZ</td>\n",
       "      <td>471.78</td>\n",
       "      <td>42471700.0</td>\n",
       "    </tr>\n",
       "    <tr>\n",
       "      <th>6</th>\n",
       "      <td>2020-03-12</td>\n",
       "      <td>000762.SZ</td>\n",
       "      <td>59.20</td>\n",
       "      <td>7724200.0</td>\n",
       "    </tr>\n",
       "    <tr>\n",
       "      <th>7</th>\n",
       "      <td>2020-03-12</td>\n",
       "      <td>600009.SH</td>\n",
       "      <td>853.83</td>\n",
       "      <td>12350400.0</td>\n",
       "    </tr>\n",
       "    <tr>\n",
       "      <th>8</th>\n",
       "      <td>2020-03-12</td>\n",
       "      <td>600126.SH</td>\n",
       "      <td>52.84</td>\n",
       "      <td>24828900.0</td>\n",
       "    </tr>\n",
       "    <tr>\n",
       "      <th>9</th>\n",
       "      <td>2020-03-12</td>\n",
       "      <td>600132.SH</td>\n",
       "      <td>156.82</td>\n",
       "      <td>3143100.0</td>\n",
       "    </tr>\n",
       "    <tr>\n",
       "      <th>10</th>\n",
       "      <td>2020-03-13</td>\n",
       "      <td>000625.SZ</td>\n",
       "      <td>789.10</td>\n",
       "      <td>68771048.0</td>\n",
       "    </tr>\n",
       "    <tr>\n",
       "      <th>11</th>\n",
       "      <td>2020-03-13</td>\n",
       "      <td>000762.SZ</td>\n",
       "      <td>57.01</td>\n",
       "      <td>7741802.0</td>\n",
       "    </tr>\n",
       "    <tr>\n",
       "      <th>12</th>\n",
       "      <td>2020-03-13</td>\n",
       "      <td>600009.SH</td>\n",
       "      <td>1196.14</td>\n",
       "      <td>17662768.0</td>\n",
       "    </tr>\n",
       "    <tr>\n",
       "      <th>13</th>\n",
       "      <td>2020-03-13</td>\n",
       "      <td>600126.SH</td>\n",
       "      <td>56.32</td>\n",
       "      <td>27484360.0</td>\n",
       "    </tr>\n",
       "    <tr>\n",
       "      <th>14</th>\n",
       "      <td>2020-03-13</td>\n",
       "      <td>600132.SH</td>\n",
       "      <td>223.06</td>\n",
       "      <td>4496598.0</td>\n",
       "    </tr>\n",
       "  </tbody>\n",
       "</table>\n",
       "</div>"
      ],
      "text/plain": [
       "            dt         cd    sales         qty\n",
       "0   2020-03-11  000625.SZ   422.08  37091400.0\n",
       "1   2020-03-11  000762.SZ    73.65   9315300.0\n",
       "2   2020-03-11  600009.SH   510.59   7233100.0\n",
       "3   2020-03-11  600126.SH    63.28  28911100.0\n",
       "4   2020-03-11  600132.SH   207.04   4127800.0\n",
       "5   2020-03-12  000625.SZ   471.78  42471700.0\n",
       "6   2020-03-12  000762.SZ    59.20   7724200.0\n",
       "7   2020-03-12  600009.SH   853.83  12350400.0\n",
       "8   2020-03-12  600126.SH    52.84  24828900.0\n",
       "9   2020-03-12  600132.SH   156.82   3143100.0\n",
       "10  2020-03-13  000625.SZ   789.10  68771048.0\n",
       "11  2020-03-13  000762.SZ    57.01   7741802.0\n",
       "12  2020-03-13  600009.SH  1196.14  17662768.0\n",
       "13  2020-03-13  600126.SH    56.32  27484360.0\n",
       "14  2020-03-13  600132.SH   223.06   4496598.0"
      ]
     },
     "execution_count": 62,
     "metadata": {},
     "output_type": "execute_result"
    }
   ],
   "source": [
    "dfreset = dfunstack.reset_index()\n",
    "dfreset"
   ]
  },
  {
   "cell_type": "code",
   "execution_count": 63,
   "id": "72982f58-2079-49ad-a623-fe1c366cd013",
   "metadata": {
    "tags": []
   },
   "outputs": [
    {
     "data": {
      "text/plain": [
       "<pandas.core.groupby.generic.DataFrameGroupBy object at 0x7f5d2ed51c40>"
      ]
     },
     "execution_count": 63,
     "metadata": {},
     "output_type": "execute_result"
    }
   ],
   "source": [
    "dfgroupby = dfreset.groupby('cd')\n",
    "dfgroupby"
   ]
  },
  {
   "cell_type": "code",
   "execution_count": 74,
   "id": "c5e8cb74-fa9b-451c-a42f-398ca5d64f7b",
   "metadata": {
    "tags": []
   },
   "outputs": [
    {
     "name": "stdout",
     "output_type": "stream",
     "text": [
      "代码：000625.SZ\n",
      "-------------------------------------------\n",
      "dt       3\n",
      "cd       3\n",
      "sales    3\n",
      "qty      3\n",
      "dtype: int64\n",
      "\n",
      "代码：000762.SZ\n",
      "-------------------------------------------\n",
      "dt       3\n",
      "cd       3\n",
      "sales    3\n",
      "qty      3\n",
      "dtype: int64\n",
      "\n",
      "代码：600009.SH\n",
      "-------------------------------------------\n",
      "dt       3\n",
      "cd       3\n",
      "sales    3\n",
      "qty      3\n",
      "dtype: int64\n",
      "\n",
      "代码：600126.SH\n",
      "-------------------------------------------\n",
      "dt       3\n",
      "cd       3\n",
      "sales    3\n",
      "qty      3\n",
      "dtype: int64\n",
      "\n",
      "代码：600132.SH\n",
      "-------------------------------------------\n",
      "dt       3\n",
      "cd       3\n",
      "sales    3\n",
      "qty      3\n",
      "dtype: int64\n",
      "\n"
     ]
    }
   ],
   "source": [
    "for name, df in dfgroupby:\n",
    "    print('代码：%s'%name)\n",
    "    print('-------------------------------------------')\n",
    "    # print(df)\n",
    "    print(df.count())\n",
    "    print()"
   ]
  },
  {
   "cell_type": "code",
   "execution_count": 87,
   "id": "933f5de3-285e-4633-bdcb-70fa6d062fa0",
   "metadata": {
    "tags": []
   },
   "outputs": [
    {
     "name": "stdout",
     "output_type": "stream",
     "text": [
      "代码：000625.SZ\n",
      "-------------------------------------------\n",
      "dt       [2020-03-11, 2020-03-12, 2020-03-13]\n",
      "sales                              560.986667\n",
      "qty                                49444716.0\n",
      "dtype: object\n",
      "\n",
      "代码：000762.SZ\n",
      "-------------------------------------------\n",
      "dt       [2020-03-11, 2020-03-12, 2020-03-13]\n",
      "sales                               63.286667\n",
      "qty                                 8260434.0\n",
      "dtype: object\n",
      "\n",
      "代码：600009.SH\n",
      "-------------------------------------------\n",
      "dt       [2020-03-11, 2020-03-12, 2020-03-13]\n",
      "sales                                  853.52\n",
      "qty                           12415422.666667\n",
      "dtype: object\n",
      "\n",
      "代码：600126.SH\n",
      "-------------------------------------------\n",
      "dt       [2020-03-11, 2020-03-12, 2020-03-13]\n",
      "sales                                   57.48\n",
      "qty                           27074786.666667\n",
      "dtype: object\n",
      "\n",
      "代码：600132.SH\n",
      "-------------------------------------------\n",
      "dt       [2020-03-11, 2020-03-12, 2020-03-13]\n",
      "sales                                  195.64\n",
      "qty                            3922499.333333\n",
      "dtype: object\n",
      "\n"
     ]
    }
   ],
   "source": [
    "for name, df in dfgroupby:\n",
    "    print('代码：%s'%name)\n",
    "    print('-------------------------------------------')\n",
    "    # print(df)\n",
    "    print(df.agg({'dt': 'unique','sales':'mean', 'qty':'mean'}))\n",
    "    print()"
   ]
  },
  {
   "cell_type": "code",
   "execution_count": 92,
   "id": "0667b127-7c3e-489c-a3bd-aaa85490e8dc",
   "metadata": {
    "tags": []
   },
   "outputs": [
    {
     "name": "stdout",
     "output_type": "stream",
     "text": [
      "代码：000625.SZ\n",
      "-------------------------------------------\n",
      "{'000625.SZ': [dt       [2020-03-11, 2020-03-12, 2020-03-13]\n",
      "sales                              560.986667\n",
      "qty                                49444716.0\n",
      "dtype: object]}\n",
      "-------------------- 000625.SZ data-----------\n",
      "\n",
      "\n",
      "代码：000762.SZ\n",
      "-------------------------------------------\n",
      "{'000625.SZ': [dt       [2020-03-11, 2020-03-12, 2020-03-13]\n",
      "sales                              560.986667\n",
      "qty                                49444716.0\n",
      "dtype: object], '000762.SZ': [dt       [2020-03-11, 2020-03-12, 2020-03-13]\n",
      "sales                               63.286667\n",
      "qty                                 8260434.0\n",
      "dtype: object]}\n",
      "-------------------- 000762.SZ data-----------\n",
      "\n",
      "\n",
      "代码：600009.SH\n",
      "-------------------------------------------\n",
      "{'000625.SZ': [dt       [2020-03-11, 2020-03-12, 2020-03-13]\n",
      "sales                              560.986667\n",
      "qty                                49444716.0\n",
      "dtype: object], '000762.SZ': [dt       [2020-03-11, 2020-03-12, 2020-03-13]\n",
      "sales                               63.286667\n",
      "qty                                 8260434.0\n",
      "dtype: object], '600009.SH': [dt       [2020-03-11, 2020-03-12, 2020-03-13]\n",
      "sales                                  853.52\n",
      "qty                           12415422.666667\n",
      "dtype: object]}\n",
      "-------------------- 600009.SH data-----------\n",
      "\n",
      "\n",
      "代码：600126.SH\n",
      "-------------------------------------------\n",
      "{'000625.SZ': [dt       [2020-03-11, 2020-03-12, 2020-03-13]\n",
      "sales                              560.986667\n",
      "qty                                49444716.0\n",
      "dtype: object], '000762.SZ': [dt       [2020-03-11, 2020-03-12, 2020-03-13]\n",
      "sales                               63.286667\n",
      "qty                                 8260434.0\n",
      "dtype: object], '600009.SH': [dt       [2020-03-11, 2020-03-12, 2020-03-13]\n",
      "sales                                  853.52\n",
      "qty                           12415422.666667\n",
      "dtype: object], '600126.SH': [dt       [2020-03-11, 2020-03-12, 2020-03-13]\n",
      "sales                                   57.48\n",
      "qty                           27074786.666667\n",
      "dtype: object]}\n",
      "-------------------- 600126.SH data-----------\n",
      "\n",
      "\n",
      "代码：600132.SH\n",
      "-------------------------------------------\n",
      "{'000625.SZ': [dt       [2020-03-11, 2020-03-12, 2020-03-13]\n",
      "sales                              560.986667\n",
      "qty                                49444716.0\n",
      "dtype: object], '000762.SZ': [dt       [2020-03-11, 2020-03-12, 2020-03-13]\n",
      "sales                               63.286667\n",
      "qty                                 8260434.0\n",
      "dtype: object], '600009.SH': [dt       [2020-03-11, 2020-03-12, 2020-03-13]\n",
      "sales                                  853.52\n",
      "qty                           12415422.666667\n",
      "dtype: object], '600126.SH': [dt       [2020-03-11, 2020-03-12, 2020-03-13]\n",
      "sales                                   57.48\n",
      "qty                           27074786.666667\n",
      "dtype: object], '600132.SH': [dt       [2020-03-11, 2020-03-12, 2020-03-13]\n",
      "sales                                  195.64\n",
      "qty                            3922499.333333\n",
      "dtype: object]}\n",
      "-------------------- 600132.SH data-----------\n",
      "\n",
      "\n"
     ]
    }
   ],
   "source": [
    "dfjs = {}\n",
    "for name, df in dfgroupby:\n",
    "    print('代码：%s'%name)\n",
    "    print('-------------------------------------------')\n",
    "    # print(df)\n",
    "    dfjs[name] = [df.agg({'dt': 'unique','sales':'mean', 'qty':'mean'})]\n",
    "    print(dfjs)\n",
    "    print(f'-------------------- {name} data-----------')\n",
    "    print('\\n')"
   ]
  },
  {
   "cell_type": "code",
   "execution_count": 110,
   "id": "390092c8-9730-4cc6-8d94-c9c9e4123bfc",
   "metadata": {
    "tags": []
   },
   "outputs": [],
   "source": [
    "dfjs_to_df = pd.DataFrame([dfjs])"
   ]
  },
  {
   "cell_type": "code",
   "execution_count": 111,
   "id": "5384c94a-d6f5-4a04-aff6-6180ea45de59",
   "metadata": {
    "tags": []
   },
   "outputs": [
    {
     "data": {
      "text/plain": [
       "000625.SZ    object\n",
       "000762.SZ    object\n",
       "600009.SH    object\n",
       "600126.SH    object\n",
       "600132.SH    object\n",
       "dtype: object"
      ]
     },
     "execution_count": 111,
     "metadata": {},
     "output_type": "execute_result"
    }
   ],
   "source": [
    "dfjs_to_df.dtypes"
   ]
  },
  {
   "cell_type": "code",
   "execution_count": 120,
   "id": "c3104734-5d60-4551-8f02-829ef1f70a74",
   "metadata": {
    "tags": []
   },
   "outputs": [],
   "source": [
    "# dfjs_to_df.to_json('json1.json')\n",
    "# dfjs_to_df.to_json('json2.json', orient='index') # 可以用\n",
    "dfjs_to_df.to_json('json3.json', orient='columns') # 可以用"
   ]
  },
  {
   "cell_type": "code",
   "execution_count": null,
   "id": "5519f1d9-a81a-42fa-aea4-8628c4e3f95f",
   "metadata": {},
   "outputs": [],
   "source": [
    "## 聚合计算"
   ]
  },
  {
   "cell_type": "code",
   "execution_count": 122,
   "id": "6bd6a569-6482-4729-bd2e-734a5bc114b1",
   "metadata": {
    "tags": []
   },
   "outputs": [
    {
     "name": "stdout",
     "output_type": "stream",
     "text": [
      "-------------------------------------------\n",
      "-------------------- 000625.SZ data-----------\n",
      "\n",
      "\n",
      "-------------------------------------------\n",
      "-------------------- 000762.SZ data-----------\n",
      "\n",
      "\n",
      "-------------------------------------------\n",
      "-------------------- 600009.SH data-----------\n",
      "\n",
      "\n",
      "-------------------------------------------\n",
      "-------------------- 600126.SH data-----------\n",
      "\n",
      "\n",
      "-------------------------------------------\n",
      "-------------------- 600132.SH data-----------\n",
      "\n",
      "\n"
     ]
    }
   ],
   "source": [
    "dfjs_sort = {}\n",
    "for name, df in dfgroupby:\n",
    "    # print(name)\n",
    "    print('-------------------------------------------')\n",
    "    # print(df)\n",
    "    dfjs_sort[name] = [df.groupby('dt').agg({'sales':'mean'})]\n",
    "    \n",
    "    # print(dfjs_sort)\n",
    "    print(f'-------------------- {name} data-----------')\n",
    "    print('\\n')"
   ]
  },
  {
   "cell_type": "code",
   "execution_count": 123,
   "id": "d4a96728-b72a-4a8d-a118-563174a483ae",
   "metadata": {
    "tags": []
   },
   "outputs": [],
   "source": [
    "dfjs_sort_to_df = pd.DataFrame([dfjs_sort])"
   ]
  },
  {
   "cell_type": "code",
   "execution_count": 124,
   "id": "b94acae5-8eae-4a6a-ba69-c3c5e3b5ee55",
   "metadata": {
    "tags": []
   },
   "outputs": [
    {
     "data": {
      "text/plain": [
       "000625.SZ    object\n",
       "000762.SZ    object\n",
       "600009.SH    object\n",
       "600126.SH    object\n",
       "600132.SH    object\n",
       "dtype: object"
      ]
     },
     "execution_count": 124,
     "metadata": {},
     "output_type": "execute_result"
    }
   ],
   "source": [
    "dfjs_to_df.dtypes"
   ]
  },
  {
   "cell_type": "code",
   "execution_count": 125,
   "id": "ef33e397-84b4-4975-a686-7f50d9f6d614",
   "metadata": {
    "tags": []
   },
   "outputs": [
    {
     "data": {
      "text/html": [
       "<div>\n",
       "<style scoped>\n",
       "    .dataframe tbody tr th:only-of-type {\n",
       "        vertical-align: middle;\n",
       "    }\n",
       "\n",
       "    .dataframe tbody tr th {\n",
       "        vertical-align: top;\n",
       "    }\n",
       "\n",
       "    .dataframe thead th {\n",
       "        text-align: right;\n",
       "    }\n",
       "</style>\n",
       "<table border=\"1\" class=\"dataframe\">\n",
       "  <thead>\n",
       "    <tr style=\"text-align: right;\">\n",
       "      <th></th>\n",
       "      <th>000625.SZ</th>\n",
       "      <th>000762.SZ</th>\n",
       "      <th>600009.SH</th>\n",
       "      <th>600126.SH</th>\n",
       "      <th>600132.SH</th>\n",
       "    </tr>\n",
       "  </thead>\n",
       "  <tbody>\n",
       "    <tr>\n",
       "      <th>0</th>\n",
       "      <td>[[[2020-03-11, 2020-03-12, 2020-03-13], 560.98...</td>\n",
       "      <td>[[[2020-03-11, 2020-03-12, 2020-03-13], 63.286...</td>\n",
       "      <td>[[[2020-03-11, 2020-03-12, 2020-03-13], 853.52...</td>\n",
       "      <td>[[[2020-03-11, 2020-03-12, 2020-03-13], 57.48,...</td>\n",
       "      <td>[[[2020-03-11, 2020-03-12, 2020-03-13], 195.64...</td>\n",
       "    </tr>\n",
       "  </tbody>\n",
       "</table>\n",
       "</div>"
      ],
      "text/plain": [
       "                                           000625.SZ  \\\n",
       "0  [[[2020-03-11, 2020-03-12, 2020-03-13], 560.98...   \n",
       "\n",
       "                                           000762.SZ  \\\n",
       "0  [[[2020-03-11, 2020-03-12, 2020-03-13], 63.286...   \n",
       "\n",
       "                                           600009.SH  \\\n",
       "0  [[[2020-03-11, 2020-03-12, 2020-03-13], 853.52...   \n",
       "\n",
       "                                           600126.SH  \\\n",
       "0  [[[2020-03-11, 2020-03-12, 2020-03-13], 57.48,...   \n",
       "\n",
       "                                           600132.SH  \n",
       "0  [[[2020-03-11, 2020-03-12, 2020-03-13], 195.64...  "
      ]
     },
     "execution_count": 125,
     "metadata": {},
     "output_type": "execute_result"
    }
   ],
   "source": [
    "dfjs_to_df"
   ]
  },
  {
   "cell_type": "code",
   "execution_count": 126,
   "id": "a7b35431-44b1-41ce-b45c-14ade34c90f6",
   "metadata": {
    "tags": []
   },
   "outputs": [],
   "source": [
    "dfjs_sort_to_df.to_json('json11.json', orient='columns') # 可以用"
   ]
  },
  {
   "cell_type": "code",
   "execution_count": null,
   "id": "174a8081-4e64-4fe0-aa68-2dde74afba4e",
   "metadata": {},
   "outputs": [],
   "source": []
  },
  {
   "cell_type": "code",
   "execution_count": null,
   "id": "437aa6ca-b056-4f46-a5b3-c0386bfd56a1",
   "metadata": {},
   "outputs": [],
   "source": [
    "dfjs_sort = {}\n",
    "for name, df in dfgroupby:\n",
    "    # print(name)\n",
    "    print('-------------------------------------------')\n",
    "    # print(df)\n",
    "    dfjs_sort[name] = [df.groupby('dt').agg({'sales':'mean'})]\n",
    "    \n",
    "    # print(dfjs_sort)\n",
    "    print(f'-------------------- {name} data-----------')\n",
    "    print('\\n')"
   ]
  },
  {
   "cell_type": "code",
   "execution_count": null,
   "id": "01a0264d-8289-4fc6-a3bc-f4b593a0ca2d",
   "metadata": {},
   "outputs": [],
   "source": []
  },
  {
   "cell_type": "code",
   "execution_count": 143,
   "id": "62ae7b7e-d5bd-47e2-b54e-a81ae60127a9",
   "metadata": {
    "tags": []
   },
   "outputs": [
    {
     "name": "stdout",
     "output_type": "stream",
     "text": [
      "-------------------------------------------\n",
      "-------------------- 000625.SZ data-----------\n",
      "\n",
      "\n",
      "-------------------------------------------\n",
      "-------------------- 000762.SZ data-----------\n",
      "\n",
      "\n",
      "-------------------------------------------\n",
      "-------------------- 600009.SH data-----------\n",
      "\n",
      "\n",
      "-------------------------------------------\n",
      "-------------------- 600126.SH data-----------\n",
      "\n",
      "\n",
      "-------------------------------------------\n",
      "-------------------- 600132.SH data-----------\n",
      "\n",
      "\n"
     ]
    }
   ],
   "source": [
    "dfjs_sort_cat = {}\n",
    "for name, df in dfgroupby:\n",
    "    # print(name)\n",
    "    print('-------------------------------------------')\n",
    "    # print(df)\n",
    "    dfjs_sort_cat[name] = [df.groupby('qty').agg({'sales':'sum'}).sort_values('sales', ascending=True)]\n",
    "    \n",
    "    # print(dfjs_sort)\n",
    "    print(f'-------------------- {name} data-----------')\n",
    "    print('\\n')"
   ]
  },
  {
   "cell_type": "code",
   "execution_count": 144,
   "id": "6841423f-5737-43f0-bf0f-f2b9a40959a4",
   "metadata": {},
   "outputs": [
    {
     "data": {
      "text/plain": [
       "{'000625.SZ': [             sales\n",
       "  qty               \n",
       "  37091400.0  422.08\n",
       "  42471700.0  471.78\n",
       "  68771048.0  789.10],\n",
       " '000762.SZ': [           sales\n",
       "  qty             \n",
       "  7741802.0  57.01\n",
       "  7724200.0  59.20\n",
       "  9315300.0  73.65],\n",
       " '600009.SH': [              sales\n",
       "  qty                \n",
       "  7233100.0    510.59\n",
       "  12350400.0   853.83\n",
       "  17662768.0  1196.14],\n",
       " '600126.SH': [            sales\n",
       "  qty              \n",
       "  24828900.0  52.84\n",
       "  27484360.0  56.32\n",
       "  28911100.0  63.28],\n",
       " '600132.SH': [            sales\n",
       "  qty              \n",
       "  3143100.0  156.82\n",
       "  4127800.0  207.04\n",
       "  4496598.0  223.06]}"
      ]
     },
     "execution_count": 144,
     "metadata": {},
     "output_type": "execute_result"
    }
   ],
   "source": [
    "dfjs_sort_cat"
   ]
  },
  {
   "cell_type": "code",
   "execution_count": 146,
   "id": "6bd3f5c4-d2f6-4317-8ac8-74ea9fa6512a",
   "metadata": {
    "tags": []
   },
   "outputs": [],
   "source": [
    "dfjs_sort_cat_to_df = pd.DataFrame([dfjs_sort_cat]) # 转成dataframe"
   ]
  },
  {
   "cell_type": "code",
   "execution_count": 147,
   "id": "dfbe410a-1ff1-45b3-8552-18b9201ea6f5",
   "metadata": {
    "tags": []
   },
   "outputs": [],
   "source": [
    "dfjs_sort_cat_to_df.to_json('json22.json', orient='columns') # 可以用"
   ]
  },
  {
   "cell_type": "code",
   "execution_count": null,
   "id": "1fd4721b-b2f4-436a-9d3a-3cb3e1ae1078",
   "metadata": {},
   "outputs": [],
   "source": []
  },
  {
   "cell_type": "code",
   "execution_count": null,
   "id": "acc6fcba-5ce6-4db8-b9e4-6015f54cde17",
   "metadata": {},
   "outputs": [],
   "source": []
  },
  {
   "cell_type": "code",
   "execution_count": 36,
   "id": "ddcbc974-5dba-4423-b862-3eb8de203450",
   "metadata": {
    "tags": []
   },
   "outputs": [
    {
     "name": "stdout",
     "output_type": "stream",
     "text": [
      "            sales         qty\n",
      "code                         \n",
      "000625.SZ  422.08  37091400.0\n",
      "000762.SZ   73.65   9315300.0\n",
      "600132.SH  207.04   4127800.0\n",
      "600009.SH  510.59   7233100.0\n",
      "600126.SH   63.28  28911100.0\n"
     ]
    }
   ],
   "source": [
    "print(vom1.loc['2020-03-11'])"
   ]
  },
  {
   "cell_type": "code",
   "execution_count": 41,
   "id": "5f3ca2bb-07f9-4475-84ef-c0708e553e00",
   "metadata": {
    "tags": []
   },
   "outputs": [
    {
     "name": "stdout",
     "output_type": "stream",
     "text": [
      "sales        207.04\n",
      "qty      4127800.00\n",
      "Name: (2020-03-11, 600132.SH), dtype: float64\n"
     ]
    }
   ],
   "source": [
    "print(vom1.loc[('2020-03-11', '600132.SH'), :])"
   ]
  },
  {
   "cell_type": "code",
   "execution_count": 42,
   "id": "9bda6333-7918-41e7-9aef-c0815f342bad",
   "metadata": {
    "tags": []
   },
   "outputs": [
    {
     "name": "stdout",
     "output_type": "stream",
     "text": [
      "            sales         qty\n",
      "code                         \n",
      "000625.SZ  422.08  37091400.0\n",
      "000762.SZ   73.65   9315300.0\n",
      "600132.SH  207.04   4127800.0\n",
      "600009.SH  510.59   7233100.0\n",
      "600126.SH   63.28  28911100.0\n"
     ]
    }
   ],
   "source": [
    "print(vom1.loc[('2020-03-11'), :])"
   ]
  },
  {
   "cell_type": "code",
   "execution_count": 44,
   "id": "458e1eeb-ea54-410e-893d-41c20ce3d826",
   "metadata": {
    "tags": []
   },
   "outputs": [
    {
     "data": {
      "text/plain": [
       "MultiIndex([('2020-03-11', '000625.SZ'),\n",
       "            ('2020-03-11', '000762.SZ'),\n",
       "            ('2020-03-11', '600132.SH'),\n",
       "            ('2020-03-11', '600009.SH'),\n",
       "            ('2020-03-11', '600126.SH'),\n",
       "            ('2020-03-12', '000625.SZ'),\n",
       "            ('2020-03-12', '000762.SZ'),\n",
       "            ('2020-03-12', '600132.SH'),\n",
       "            ('2020-03-12', '600009.SH'),\n",
       "            ('2020-03-12', '600126.SH'),\n",
       "            ('2020-03-13', '000625.SZ'),\n",
       "            ('2020-03-13', '000762.SZ'),\n",
       "            ('2020-03-13', '600132.SH'),\n",
       "            ('2020-03-13', '600009.SH'),\n",
       "            ('2020-03-13', '600126.SH')],\n",
       "           names=['date', 'code'])"
      ]
     },
     "execution_count": 44,
     "metadata": {},
     "output_type": "execute_result"
    }
   ],
   "source": [
    "vom1.index"
   ]
  },
  {
   "cell_type": "code",
   "execution_count": null,
   "id": "9b607307-c320-4076-b379-63a2dd0da714",
   "metadata": {},
   "outputs": [],
   "source": []
  },
  {
   "cell_type": "code",
   "execution_count": 6,
   "id": "cdf963fe-f422-41a2-ada3-deab6b8557f4",
   "metadata": {
    "tags": []
   },
   "outputs": [],
   "source": [
    "dt = ['2020-03-11', '2020-03-12','2020-03-13']\n",
    "sc = ['000625.SZ','000762.SZ','600132.SH','600009.SH','000882.SZ']\n",
    "cn = ['成交额', '成交量']\n",
    "cols = pd.MultiIndex.from_product([dt, cn], names=['日期', '数据'])\n",
    "data = np.array([\n",
    "\t[422.08, 37091400, 471.78, 42471700, 789.1, 68771048],\n",
    "\t[73.65, 9315300, 59.2, 7724200, 57.01, 7741802],\n",
    "\t[207.04, 4127800, 156.82, 3143100, 223.06, 4496598],\n",
    "\t[510.59, 7233100, 853.83, 12350400, 1196.14, 17662768],\n",
    "\t[63.28, 28911100, 52.84, 24828900, 56.32, 27484360]\n",
    "])"
   ]
  },
  {
   "cell_type": "code",
   "execution_count": 7,
   "id": "5f7effc9-026f-465e-9a92-768863f72666",
   "metadata": {
    "tags": []
   },
   "outputs": [
    {
     "name": "stdout",
     "output_type": "stream",
     "text": [
      "日期        2020-03-11             2020-03-12             2020-03-13            \n",
      "数据               成交额         成交量        成交额         成交量        成交额         成交量\n",
      "000625.SZ     422.08  37091400.0     471.78  42471700.0     789.10  68771048.0\n",
      "000762.SZ      73.65   9315300.0      59.20   7724200.0      57.01   7741802.0\n",
      "600132.SH     207.04   4127800.0     156.82   3143100.0     223.06   4496598.0\n",
      "600009.SH     510.59   7233100.0     853.83  12350400.0    1196.14  17662768.0\n",
      "000882.SZ      63.28  28911100.0      52.84  24828900.0      56.32  27484360.0\n"
     ]
    }
   ],
   "source": [
    "vom2 = pd.DataFrame(data, index=sc, columns=cols)\n",
    "print(vom2)"
   ]
  },
  {
   "cell_type": "code",
   "execution_count": 8,
   "id": "f71263d5-f510-4af6-93c7-ef56da87f749",
   "metadata": {
    "tags": []
   },
   "outputs": [
    {
     "name": "stdout",
     "output_type": "stream",
     "text": [
      "              成交额         成交量\n",
      "代码                           \n",
      "000625.SZ  422.08  37091400.0\n",
      "000762.SZ   73.65   9315300.0\n",
      "600132.SH  207.04   4127800.0\n",
      "600009.SH  510.59   7233100.0\n",
      "600126.SH   63.28  28911100.0\n",
      "成交额         422.08\n",
      "成交量    37091400.00\n",
      "Name: (2020-03-11, 000625.SZ), dtype: float64\n",
      "37091400.0\n",
      "数据            成交额         成交量\n",
      "000625.SZ  422.08  37091400.0\n",
      "000762.SZ   73.65   9315300.0\n",
      "600132.SH  207.04   4127800.0\n",
      "600009.SH  510.59   7233100.0\n",
      "000882.SZ   63.28  28911100.0\n",
      "000625.SZ    422.08\n",
      "000762.SZ     73.65\n",
      "600132.SH    207.04\n",
      "600009.SH    510.59\n",
      "000882.SZ     63.28\n",
      "Name: (2020-03-11, 成交额), dtype: float64\n",
      "日期          数据 \n",
      "2020-03-11  成交额         422.08\n",
      "            成交量    37091400.00\n",
      "2020-03-12  成交额         471.78\n",
      "            成交量    42471700.00\n",
      "2020-03-13  成交额         789.10\n",
      "            成交量    68771048.00\n",
      "Name: 000625.SZ, dtype: float64\n",
      "日期\n",
      "2020-03-11    422.08\n",
      "2020-03-12    471.78\n",
      "2020-03-13    789.10\n",
      "Name: 000625.SZ, dtype: float64\n"
     ]
    }
   ],
   "source": [
    "print(vom1.loc['2020-03-11'])\n",
    "print(vom1.loc['2020-03-11', '000625.SZ'])\n",
    "print(vom1.loc['2020-03-11', '000625.SZ']['成交量'])\n",
    "\n",
    "print(vom2['2020-03-11'])\n",
    "print(vom2['2020-03-11', '成交额'])\n",
    "print(vom2.loc['000625.SZ'])\n",
    "print(vom2.loc['000625.SZ'][:,'成交额'])\n",
    "\n"
   ]
  },
  {
   "cell_type": "code",
   "execution_count": null,
   "id": "187836fc-d0f1-4723-a2dd-f12df21b0e21",
   "metadata": {},
   "outputs": [],
   "source": []
  }
 ],
 "metadata": {
  "kernelspec": {
   "display_name": "Python 3 (ipykernel)",
   "language": "python",
   "name": "python3"
  },
  "language_info": {
   "codemirror_mode": {
    "name": "ipython",
    "version": 3
   },
   "file_extension": ".py",
   "mimetype": "text/x-python",
   "name": "python",
   "nbconvert_exporter": "python",
   "pygments_lexer": "ipython3",
   "version": "3.8.16"
  }
 },
 "nbformat": 4,
 "nbformat_minor": 5
}
